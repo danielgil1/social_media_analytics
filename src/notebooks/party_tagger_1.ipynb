{
 "cells": [
  {
   "cell_type": "code",
   "execution_count": 12,
   "metadata": {},
   "outputs": [],
   "source": [
    "import pandas as pd\n",
    "import numpy as np\n",
    "import nltk\n",
    "from nltk import word_tokenize\n",
    "import re\n",
    "regex = re.compile('[^a-zA-Z ]')\n",
    "lemmatizer = nltk.stem.wordnet.WordNetLemmatizer()\n",
    "\n",
    "\n",
    "# pre process documents removing stop words, non alpha and lemmatizing\n",
    "stopwords = list(nltk.corpus.stopwords.words('english')) # extend stop words if necessary\n",
    "stopwords.extend(['rt','http'])"
   ]
  },
  {
   "cell_type": "code",
   "execution_count": 7,
   "metadata": {},
   "outputs": [],
   "source": [
    "df = pd.read_csv('../csv_files/political_party_attributes.csv', encoding = \"ISO-8859-1\")"
   ]
  },
  {
   "cell_type": "code",
   "execution_count": 8,
   "metadata": {},
   "outputs": [],
   "source": [
    "dictionary = {}\n",
    "for index, row in df.iterrows():\n",
    "    vector = [row['party_name'], row['twitter'], row['abbr'], row['leader'],\n",
    "                                    row['leader_twitter']]\n",
    "    vector.extend([x.strip() for x in row['ideology'].split(',')])\n",
    "    vector = [x.lower() for x in vector if not pd.isnull(x)]\n",
    "    dictionary[row['party_name']] = vector"
   ]
  },
  {
   "cell_type": "code",
   "execution_count": 9,
   "metadata": {},
   "outputs": [],
   "source": [
    "# lemmatize by pos verb, noun or adv\n",
    "def lemmatize(word):\n",
    "    lemma = lemmatizer.lemmatize(word,'v')\n",
    "    \n",
    "    if lemma == word:\n",
    "        lemma = lemmatizer.lemmatize(word,'n')\n",
    "        \n",
    "    if lemma == word:\n",
    "        lemma = lemmatizer.lemmatize(word,'a')\n",
    "        \n",
    "    return lemma\n",
    "\n",
    "def doc_preprocess(corpus):\n",
    "    new_corpus=[]\n",
    "    for doc in corpus:\n",
    "        new_doc=[]\n",
    "        for word in word_tokenize(doc):\n",
    "            new_word=word.lower()\n",
    "            if word.isalpha() and new_word not in stopwords:\n",
    "                new_word = lemmatize(new_word)\n",
    "                if new_word not in stopwords:\n",
    "                    new_doc.append(new_word)\n",
    "        new_corpus.append(new_doc)\n",
    "    return new_corpus"
   ]
  },
  {
   "cell_type": "code",
   "execution_count": 13,
   "metadata": {},
   "outputs": [
    {
     "name": "stdout",
     "output_type": "stream",
     "text": [
      "['OneNationAus', 'The', 'most', 'toxic', 'party', 'on', 'the', 'Australian', 'political', 'landscape', 'Youve', 'somehow', 'managed', 'to', 'make', 'Clive', 'Palm', 'httpstcoNREuPrVzLa']\n"
     ]
    }
   ],
   "source": [
    "f = open(\"../csv_files/tweets.txt\", \"r\", encoding = \"ISO-8859-1\")\n",
    "for doc in f:\n",
    "    doc = regex.sub('', doc).strip()\n",
    "    words = word_tokenize(doc)\n",
    "    print(words)\n",
    "    break"
   ]
  },
  {
   "cell_type": "code",
   "execution_count": null,
   "metadata": {},
   "outputs": [],
   "source": []
  }
 ],
 "metadata": {
  "kernelspec": {
   "display_name": "Python 3",
   "language": "python",
   "name": "python3"
  },
  "language_info": {
   "codemirror_mode": {
    "name": "ipython",
    "version": 3
   },
   "file_extension": ".py",
   "mimetype": "text/x-python",
   "name": "python",
   "nbconvert_exporter": "python",
   "pygments_lexer": "ipython3",
   "version": "3.6.8"
  }
 },
 "nbformat": 4,
 "nbformat_minor": 2
}
