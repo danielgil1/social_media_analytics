{
 "cells": [
  {
   "cell_type": "code",
   "execution_count": 1,
   "metadata": {},
   "outputs": [],
   "source": [
    "import pandas as pd\n",
    "import geopandas as gpd"
   ]
  },
  {
   "cell_type": "markdown",
   "metadata": {},
   "source": [
    "##### Read SA1 area names of Australia"
   ]
  },
  {
   "cell_type": "code",
   "execution_count": 11,
   "metadata": {},
   "outputs": [],
   "source": [
    "df = pd.read_csv('../csv_files/SA1_2016_AUST.csv')\n",
    "df = df.rename(columns=lambda x: x.strip())"
   ]
  },
  {
   "cell_type": "markdown",
   "metadata": {},
   "source": [
    "##### Read geo map of Greater Capital cities Australia"
   ]
  },
  {
   "cell_type": "code",
   "execution_count": 12,
   "metadata": {},
   "outputs": [
    {
     "data": {
      "text/html": [
       "<div>\n",
       "<style scoped>\n",
       "    .dataframe tbody tr th:only-of-type {\n",
       "        vertical-align: middle;\n",
       "    }\n",
       "\n",
       "    .dataframe tbody tr th {\n",
       "        vertical-align: top;\n",
       "    }\n",
       "\n",
       "    .dataframe thead th {\n",
       "        text-align: right;\n",
       "    }\n",
       "</style>\n",
       "<table border=\"1\" class=\"dataframe\">\n",
       "  <thead>\n",
       "    <tr style=\"text-align: right;\">\n",
       "      <th></th>\n",
       "      <th>GCC_CODE16</th>\n",
       "      <th>GCC_NAME16</th>\n",
       "      <th>STE_CODE16</th>\n",
       "      <th>STE_NAME16</th>\n",
       "      <th>AREASQKM16</th>\n",
       "      <th>geometry</th>\n",
       "    </tr>\n",
       "  </thead>\n",
       "  <tbody>\n",
       "    <tr>\n",
       "      <th>0</th>\n",
       "      <td>1RNSW</td>\n",
       "      <td>Rest of NSW</td>\n",
       "      <td>1</td>\n",
       "      <td>New South Wales</td>\n",
       "      <td>788442.5890</td>\n",
       "      <td>(POLYGON ((149.916344015 -37.07400600199998, 1...</td>\n",
       "    </tr>\n",
       "    <tr>\n",
       "      <th>1</th>\n",
       "      <td>1GSYD</td>\n",
       "      <td>Greater Sydney</td>\n",
       "      <td>1</td>\n",
       "      <td>New South Wales</td>\n",
       "      <td>12368.1933</td>\n",
       "      <td>(POLYGON ((151.2704940150001 -33.8479190039999...</td>\n",
       "    </tr>\n",
       "    <tr>\n",
       "      <th>2</th>\n",
       "      <td>2RVIC</td>\n",
       "      <td>Rest of Vic.</td>\n",
       "      <td>2</td>\n",
       "      <td>Victoria</td>\n",
       "      <td>217503.1186</td>\n",
       "      <td>(POLYGON ((145.35086003 -38.56585697299994, 14...</td>\n",
       "    </tr>\n",
       "    <tr>\n",
       "      <th>3</th>\n",
       "      <td>2GMEL</td>\n",
       "      <td>Greater Melbourne</td>\n",
       "      <td>2</td>\n",
       "      <td>Victoria</td>\n",
       "      <td>9992.5118</td>\n",
       "      <td>(POLYGON ((144.7314098430001 -38.3502500179999...</td>\n",
       "    </tr>\n",
       "    <tr>\n",
       "      <th>4</th>\n",
       "      <td>3GBRI</td>\n",
       "      <td>Greater Brisbane</td>\n",
       "      <td>3</td>\n",
       "      <td>Queensland</td>\n",
       "      <td>15841.9603</td>\n",
       "      <td>(POLYGON ((153.145413532 -27.07658807599995, 1...</td>\n",
       "    </tr>\n",
       "  </tbody>\n",
       "</table>\n",
       "</div>"
      ],
      "text/plain": [
       "  GCC_CODE16         GCC_NAME16 STE_CODE16       STE_NAME16   AREASQKM16  \\\n",
       "0      1RNSW        Rest of NSW          1  New South Wales  788442.5890   \n",
       "1      1GSYD     Greater Sydney          1  New South Wales   12368.1933   \n",
       "2      2RVIC       Rest of Vic.          2         Victoria  217503.1186   \n",
       "3      2GMEL  Greater Melbourne          2         Victoria    9992.5118   \n",
       "4      3GBRI   Greater Brisbane          3       Queensland   15841.9603   \n",
       "\n",
       "                                            geometry  \n",
       "0  (POLYGON ((149.916344015 -37.07400600199998, 1...  \n",
       "1  (POLYGON ((151.2704940150001 -33.8479190039999...  \n",
       "2  (POLYGON ((145.35086003 -38.56585697299994, 14...  \n",
       "3  (POLYGON ((144.7314098430001 -38.3502500179999...  \n",
       "4  (POLYGON ((153.145413532 -27.07658807599995, 1...  "
      ]
     },
     "execution_count": 12,
     "metadata": {},
     "output_type": "execute_result"
    }
   ],
   "source": [
    "geodf = gpd.read_file(\"../shape_files/GCCSA_2016_AUST.shp\")\n",
    "geodf = geodf.rename(columns=lambda x: x.strip())\n",
    "geodf = geodf.dropna()\n",
    "geodf.crs = {'init' :'epsg:4326'}\n",
    "geodf.head()"
   ]
  },
  {
   "cell_type": "markdown",
   "metadata": {},
   "source": [
    "##### Read geo map of voting areas"
   ]
  },
  {
   "cell_type": "code",
   "execution_count": 13,
   "metadata": {},
   "outputs": [
    {
     "data": {
      "text/html": [
       "<div>\n",
       "<style scoped>\n",
       "    .dataframe tbody tr th:only-of-type {\n",
       "        vertical-align: middle;\n",
       "    }\n",
       "\n",
       "    .dataframe tbody tr th {\n",
       "        vertical-align: top;\n",
       "    }\n",
       "\n",
       "    .dataframe thead th {\n",
       "        text-align: right;\n",
       "    }\n",
       "</style>\n",
       "<table border=\"1\" class=\"dataframe\">\n",
       "  <thead>\n",
       "    <tr style=\"text-align: right;\">\n",
       "      <th></th>\n",
       "      <th>Elect_div</th>\n",
       "      <th>State</th>\n",
       "      <th>Numccds</th>\n",
       "      <th>Actual</th>\n",
       "      <th>Projected</th>\n",
       "      <th>Total_Popu</th>\n",
       "      <th>Australian</th>\n",
       "      <th>Area_SqKm</th>\n",
       "      <th>Sortname</th>\n",
       "      <th>geometry</th>\n",
       "    </tr>\n",
       "  </thead>\n",
       "  <tbody>\n",
       "    <tr>\n",
       "      <th>0</th>\n",
       "      <td>Bean</td>\n",
       "      <td>ACT</td>\n",
       "      <td>351</td>\n",
       "      <td>0</td>\n",
       "      <td>0</td>\n",
       "      <td>0</td>\n",
       "      <td>0</td>\n",
       "      <td>1.913970e+03</td>\n",
       "      <td>Bean</td>\n",
       "      <td>(POLYGON Z ((149.206345 -35.345905 0, 149.2062...</td>\n",
       "    </tr>\n",
       "    <tr>\n",
       "      <th>1</th>\n",
       "      <td>Canberra</td>\n",
       "      <td>ACT</td>\n",
       "      <td>311</td>\n",
       "      <td>0</td>\n",
       "      <td>0</td>\n",
       "      <td>0</td>\n",
       "      <td>0</td>\n",
       "      <td>3.122631e+02</td>\n",
       "      <td>Canberra</td>\n",
       "      <td>POLYGON Z ((149.098612 -35.343853 0, 149.09838...</td>\n",
       "    </tr>\n",
       "    <tr>\n",
       "      <th>2</th>\n",
       "      <td>Fenner</td>\n",
       "      <td>ACT</td>\n",
       "      <td>274</td>\n",
       "      <td>0</td>\n",
       "      <td>0</td>\n",
       "      <td>0</td>\n",
       "      <td>0</td>\n",
       "      <td>2.382121e+02</td>\n",
       "      <td>Fenner</td>\n",
       "      <td>(POLYGON Z ((149.200716 -35.204954 0, 149.2007...</td>\n",
       "    </tr>\n",
       "    <tr>\n",
       "      <th>3</th>\n",
       "      <td>Lingiari</td>\n",
       "      <td>NT</td>\n",
       "      <td>327</td>\n",
       "      <td>0</td>\n",
       "      <td>0</td>\n",
       "      <td>0</td>\n",
       "      <td>0</td>\n",
       "      <td>1.348158e+06</td>\n",
       "      <td>Lingiari</td>\n",
       "      <td>(POLYGON Z ((138.001198 -17.396508 0, 138.0011...</td>\n",
       "    </tr>\n",
       "    <tr>\n",
       "      <th>4</th>\n",
       "      <td>Solomon</td>\n",
       "      <td>NT</td>\n",
       "      <td>223</td>\n",
       "      <td>0</td>\n",
       "      <td>0</td>\n",
       "      <td>0</td>\n",
       "      <td>0</td>\n",
       "      <td>1.906100e+02</td>\n",
       "      <td>Solomon</td>\n",
       "      <td>POLYGON Z ((131.000678 -12.489332 0, 131.00065...</td>\n",
       "    </tr>\n",
       "  </tbody>\n",
       "</table>\n",
       "</div>"
      ],
      "text/plain": [
       "  Elect_div State  Numccds  Actual  Projected  Total_Popu  Australian  \\\n",
       "0      Bean   ACT      351       0          0           0           0   \n",
       "1  Canberra   ACT      311       0          0           0           0   \n",
       "2    Fenner   ACT      274       0          0           0           0   \n",
       "3  Lingiari    NT      327       0          0           0           0   \n",
       "4   Solomon    NT      223       0          0           0           0   \n",
       "\n",
       "      Area_SqKm  Sortname                                           geometry  \n",
       "0  1.913970e+03      Bean  (POLYGON Z ((149.206345 -35.345905 0, 149.2062...  \n",
       "1  3.122631e+02  Canberra  POLYGON Z ((149.098612 -35.343853 0, 149.09838...  \n",
       "2  2.382121e+02    Fenner  (POLYGON Z ((149.200716 -35.204954 0, 149.2007...  \n",
       "3  1.348158e+06  Lingiari  (POLYGON Z ((138.001198 -17.396508 0, 138.0011...  \n",
       "4  1.906100e+02   Solomon  POLYGON Z ((131.000678 -12.489332 0, 131.00065...  "
      ]
     },
     "execution_count": 13,
     "metadata": {},
     "output_type": "execute_result"
    }
   ],
   "source": [
    "geodf_2 = gpd.read_file(\"../shape_files/COM_ELB_region.shp\")\n",
    "geodf_2 = geodf_2.rename(columns=lambda x: x.strip())\n",
    "geodf_2.crs = {'init' :'epsg:4326'}\n",
    "geodf_2.head()"
   ]
  },
  {
   "cell_type": "markdown",
   "metadata": {},
   "source": [
    "##### Read 2016 federal election result Australia (Aurin Data)"
   ]
  },
  {
   "cell_type": "code",
   "execution_count": 15,
   "metadata": {},
   "outputs": [
    {
     "data": {
      "text/html": [
       "<div>\n",
       "<style scoped>\n",
       "    .dataframe tbody tr th:only-of-type {\n",
       "        vertical-align: middle;\n",
       "    }\n",
       "\n",
       "    .dataframe tbody tr th {\n",
       "        vertical-align: top;\n",
       "    }\n",
       "\n",
       "    .dataframe thead th {\n",
       "        text-align: right;\n",
       "    }\n",
       "</style>\n",
       "<table border=\"1\" class=\"dataframe\">\n",
       "  <thead>\n",
       "    <tr style=\"text-align: right;\">\n",
       "      <th></th>\n",
       "      <th>alp_swing</th>\n",
       "      <th>grn_swing</th>\n",
       "      <th>fut_percent</th>\n",
       "      <th>aup_votes</th>\n",
       "      <th>nafd_percent</th>\n",
       "      <th>arf_votes</th>\n",
       "      <th>rep_votes</th>\n",
       "      <th>pup_votes</th>\n",
       "      <th>pir_percent</th>\n",
       "      <th>dhjp_percent</th>\n",
       "      <th>...</th>\n",
       "      <th>rep_swing</th>\n",
       "      <th>smk_votes</th>\n",
       "      <th>aeq_votes</th>\n",
       "      <th>sol_percent</th>\n",
       "      <th>cya_votes</th>\n",
       "      <th>grn_percent</th>\n",
       "      <th>np_votes</th>\n",
       "      <th>lp_votes</th>\n",
       "      <th>aapp_votes</th>\n",
       "      <th>coa_swing</th>\n",
       "    </tr>\n",
       "  </thead>\n",
       "  <tbody>\n",
       "    <tr>\n",
       "      <th>0</th>\n",
       "      <td>-8.36</td>\n",
       "      <td>1.30</td>\n",
       "      <td>NaN</td>\n",
       "      <td>NaN</td>\n",
       "      <td>NaN</td>\n",
       "      <td>NaN</td>\n",
       "      <td>NaN</td>\n",
       "      <td>NaN</td>\n",
       "      <td>NaN</td>\n",
       "      <td>NaN</td>\n",
       "      <td>...</td>\n",
       "      <td>NaN</td>\n",
       "      <td>NaN</td>\n",
       "      <td>NaN</td>\n",
       "      <td>NaN</td>\n",
       "      <td>NaN</td>\n",
       "      <td>19.40</td>\n",
       "      <td>NaN</td>\n",
       "      <td>202.0</td>\n",
       "      <td>NaN</td>\n",
       "      <td>-3.56</td>\n",
       "    </tr>\n",
       "    <tr>\n",
       "      <th>1</th>\n",
       "      <td>-5.97</td>\n",
       "      <td>0.76</td>\n",
       "      <td>NaN</td>\n",
       "      <td>NaN</td>\n",
       "      <td>NaN</td>\n",
       "      <td>NaN</td>\n",
       "      <td>NaN</td>\n",
       "      <td>NaN</td>\n",
       "      <td>NaN</td>\n",
       "      <td>NaN</td>\n",
       "      <td>...</td>\n",
       "      <td>NaN</td>\n",
       "      <td>NaN</td>\n",
       "      <td>NaN</td>\n",
       "      <td>NaN</td>\n",
       "      <td>NaN</td>\n",
       "      <td>13.89</td>\n",
       "      <td>NaN</td>\n",
       "      <td>1203.0</td>\n",
       "      <td>NaN</td>\n",
       "      <td>-6.56</td>\n",
       "    </tr>\n",
       "    <tr>\n",
       "      <th>2</th>\n",
       "      <td>-4.81</td>\n",
       "      <td>5.78</td>\n",
       "      <td>NaN</td>\n",
       "      <td>NaN</td>\n",
       "      <td>NaN</td>\n",
       "      <td>NaN</td>\n",
       "      <td>NaN</td>\n",
       "      <td>NaN</td>\n",
       "      <td>NaN</td>\n",
       "      <td>NaN</td>\n",
       "      <td>...</td>\n",
       "      <td>NaN</td>\n",
       "      <td>NaN</td>\n",
       "      <td>NaN</td>\n",
       "      <td>NaN</td>\n",
       "      <td>NaN</td>\n",
       "      <td>17.01</td>\n",
       "      <td>NaN</td>\n",
       "      <td>551.0</td>\n",
       "      <td>NaN</td>\n",
       "      <td>-8.30</td>\n",
       "    </tr>\n",
       "    <tr>\n",
       "      <th>3</th>\n",
       "      <td>-9.15</td>\n",
       "      <td>3.29</td>\n",
       "      <td>NaN</td>\n",
       "      <td>NaN</td>\n",
       "      <td>NaN</td>\n",
       "      <td>NaN</td>\n",
       "      <td>NaN</td>\n",
       "      <td>NaN</td>\n",
       "      <td>NaN</td>\n",
       "      <td>NaN</td>\n",
       "      <td>...</td>\n",
       "      <td>NaN</td>\n",
       "      <td>NaN</td>\n",
       "      <td>NaN</td>\n",
       "      <td>NaN</td>\n",
       "      <td>NaN</td>\n",
       "      <td>19.62</td>\n",
       "      <td>NaN</td>\n",
       "      <td>702.0</td>\n",
       "      <td>NaN</td>\n",
       "      <td>-4.28</td>\n",
       "    </tr>\n",
       "    <tr>\n",
       "      <th>4</th>\n",
       "      <td>-3.57</td>\n",
       "      <td>0.84</td>\n",
       "      <td>NaN</td>\n",
       "      <td>NaN</td>\n",
       "      <td>NaN</td>\n",
       "      <td>NaN</td>\n",
       "      <td>NaN</td>\n",
       "      <td>NaN</td>\n",
       "      <td>NaN</td>\n",
       "      <td>NaN</td>\n",
       "      <td>...</td>\n",
       "      <td>NaN</td>\n",
       "      <td>NaN</td>\n",
       "      <td>NaN</td>\n",
       "      <td>NaN</td>\n",
       "      <td>NaN</td>\n",
       "      <td>10.50</td>\n",
       "      <td>NaN</td>\n",
       "      <td>247.0</td>\n",
       "      <td>NaN</td>\n",
       "      <td>-6.89</td>\n",
       "    </tr>\n",
       "  </tbody>\n",
       "</table>\n",
       "<p>5 rows × 172 columns</p>\n",
       "</div>"
      ],
      "text/plain": [
       "   alp_swing  grn_swing  fut_percent  aup_votes  nafd_percent  arf_votes  \\\n",
       "0      -8.36       1.30          NaN        NaN           NaN        NaN   \n",
       "1      -5.97       0.76          NaN        NaN           NaN        NaN   \n",
       "2      -4.81       5.78          NaN        NaN           NaN        NaN   \n",
       "3      -9.15       3.29          NaN        NaN           NaN        NaN   \n",
       "4      -3.57       0.84          NaN        NaN           NaN        NaN   \n",
       "\n",
       "   rep_votes  pup_votes  pir_percent  dhjp_percent  ...  rep_swing  smk_votes  \\\n",
       "0        NaN        NaN          NaN           NaN  ...        NaN        NaN   \n",
       "1        NaN        NaN          NaN           NaN  ...        NaN        NaN   \n",
       "2        NaN        NaN          NaN           NaN  ...        NaN        NaN   \n",
       "3        NaN        NaN          NaN           NaN  ...        NaN        NaN   \n",
       "4        NaN        NaN          NaN           NaN  ...        NaN        NaN   \n",
       "\n",
       "   aeq_votes  sol_percent  cya_votes  grn_percent  np_votes  lp_votes  \\\n",
       "0        NaN          NaN        NaN        19.40       NaN     202.0   \n",
       "1        NaN          NaN        NaN        13.89       NaN    1203.0   \n",
       "2        NaN          NaN        NaN        17.01       NaN     551.0   \n",
       "3        NaN          NaN        NaN        19.62       NaN     702.0   \n",
       "4        NaN          NaN        NaN        10.50       NaN     247.0   \n",
       "\n",
       "   aapp_votes  coa_swing  \n",
       "0         NaN      -3.56  \n",
       "1         NaN      -6.56  \n",
       "2         NaN      -8.30  \n",
       "3         NaN      -4.28  \n",
       "4         NaN      -6.89  \n",
       "\n",
       "[5 rows x 172 columns]"
      ]
     },
     "execution_count": 15,
     "metadata": {},
     "output_type": "execute_result"
    }
   ],
   "source": [
    "df_vote = pd.read_csv('../csv_files/vote_2016.csv')\n",
    "df_vote = df_vote.rename(columns=lambda x: x.strip())\n",
    "df_vote.head()"
   ]
  },
  {
   "cell_type": "markdown",
   "metadata": {},
   "source": [
    "##### Matching the place name of Aurin election result data and election map"
   ]
  },
  {
   "cell_type": "code",
   "execution_count": 16,
   "metadata": {},
   "outputs": [
    {
     "data": {
      "text/plain": [
       "143"
      ]
     },
     "execution_count": 16,
     "metadata": {},
     "output_type": "execute_result"
    }
   ],
   "source": [
    "import numpy as np\n",
    "a_1 = [x.lower() for x in df_vote['divisionnm'].values]\n",
    "a = set(a_1)\n",
    "b_1 = [x.lower().replace(\"'\",\"\") for x in geodf_2['Elect_div'].values]\n",
    "b = set(b_1)\n",
    "len(a.intersection(b))"
   ]
  },
  {
   "cell_type": "markdown",
   "metadata": {},
   "source": [
    "##### Join two geodataframe and query a dataframe"
   ]
  },
  {
   "cell_type": "code",
   "execution_count": 28,
   "metadata": {},
   "outputs": [
    {
     "data": {
      "text/plain": [
       "(238, 16)"
      ]
     },
     "execution_count": 28,
     "metadata": {},
     "output_type": "execute_result"
    }
   ],
   "source": [
    "joined_map = gpd.sjoin(geodf_2, geodf, op='intersects')\n",
    "joined_map.shape"
   ]
  },
  {
   "cell_type": "code",
   "execution_count": 29,
   "metadata": {},
   "outputs": [
    {
     "data": {
      "image/png": "[encoded data removed]",
      "text/plain": [
       "<Figure size 432x288 with 1 Axes>"
      ]
     },
     "metadata": {
      "needs_background": "light"
     },
     "output_type": "display_data"
    }
   ],
   "source": [
    "ax = joined_map.query(\"State == 'VIC'\").plot()"
   ]
  },
  {
   "cell_type": "markdown",
   "metadata": {},
   "source": [
    "##### Geo dataframe plotting"
   ]
  },
  {
   "cell_type": "code",
   "execution_count": 24,
   "metadata": {},
   "outputs": [
    {
     "data": {
      "text/plain": [
       "<matplotlib.axes._subplots.AxesSubplot at 0x25a49bbb668>"
      ]
     },
     "execution_count": 24,
     "metadata": {},
     "output_type": "execute_result"
    },
    {
     "data": {
      "image/png": "[encoded data removed]",
      "text/plain": [
       "<Figure size 432x288 with 1 Axes>"
      ]
     },
     "metadata": {
      "needs_background": "light"
     },
     "output_type": "display_data"
    }
   ],
   "source": [
    "geodf.plot()"
   ]
  },
  {
   "cell_type": "code",
   "execution_count": 25,
   "metadata": {},
   "outputs": [
    {
     "data": {
      "text/plain": [
       "<matplotlib.axes._subplots.AxesSubplot at 0x25a48a784e0>"
      ]
     },
     "execution_count": 25,
     "metadata": {},
     "output_type": "execute_result"
    },
    {
     "data": {
      "image/png": "[encoded data removed]",
      "text/plain": [
       "<Figure size 432x288 with 1 Axes>"
      ]
     },
     "metadata": {
      "needs_background": "light"
     },
     "output_type": "display_data"
    }
   ],
   "source": [
    "geodf_2.plot()"
   ]
  },
  {
   "cell_type": "code",
   "execution_count": 30,
   "metadata": {},
   "outputs": [
    {
     "data": {
      "image/png": "[encoded data removed]",
      "text/plain": [
       "<Figure size 432x288 with 1 Axes>"
      ]
     },
     "metadata": {
      "needs_background": "light"
     },
     "output_type": "display_data"
    }
   ],
   "source": [
    "ax = geodf_2.query(\"Elect_div == 'Cooper'\").plot()"
   ]
  },
  {
   "cell_type": "code",
   "execution_count": 32,
   "metadata": {},
   "outputs": [
    {
     "data": {
      "image/png": "[encoded data removed]",
      "text/plain": [
       "<Figure size 432x288 with 1 Axes>"
      ]
     },
     "metadata": {
      "needs_background": "light"
     },
     "output_type": "display_data"
    }
   ],
   "source": [
    "ax = geodf.query(\"GCC_NAME16 == 'Greater Melbourne'\").plot()"
   ]
  }
 ],
 "metadata": {
  "kernelspec": {
   "display_name": "Python 3",
   "language": "python",
   "name": "python3"
  },
  "language_info": {
   "codemirror_mode": {
    "name": "ipython",
    "version": 3
   },
   "file_extension": ".py",
   "mimetype": "text/x-python",
   "name": "python",
   "nbconvert_exporter": "python",
   "pygments_lexer": "ipython3",
   "version": "3.6.8"
  }
 },
 "nbformat": 4,
 "nbformat_minor": 2
}
