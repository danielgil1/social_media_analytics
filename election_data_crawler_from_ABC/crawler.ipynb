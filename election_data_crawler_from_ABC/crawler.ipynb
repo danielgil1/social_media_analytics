{
 "cells": [
  {
   "cell_type": "code",
   "execution_count": 41,
   "metadata": {},
   "outputs": [],
   "source": [
    "import urllib3\n",
    "from bs4 import BeautifulSoup\n",
    "import pandas as pd\n",
    "import requests"
   ]
  },
  {
   "cell_type": "code",
   "execution_count": null,
   "metadata": {},
   "outputs": [],
   "source": [
    "quote_page = 'Electorates by State - Federal Election 2019 gui.html'\n",
    "page = open(quote_page, 'r')\n",
    "soup = BeautifulSoup(page, 'html.parser')\n",
    "seats = []\n",
    "states = ['NSW', 'VIC', 'QLD', 'WA', 'SA', 'TAS', 'ACT', 'NT']\n",
    "for state in states:\n",
    "    print(\"Starting for\", state)\n",
    "    name_box = soup.find('div', attrs={'id': state})\n",
    "    table = name_box.find_all('td', attrs={'class': 'electorate text'})\n",
    "    for row in table:\n",
    "        seat = dict()\n",
    "        seat_name = row.text.strip().split('(')[0].strip()\n",
    "        seat_link = \"https://www.abc.net.au\"+row.find('a').get('href')\n",
    "        \n",
    "        page1 = requests.get(seat_link).content\n",
    "        soup1 = BeautifulSoup(page1, 'html.parser')\n",
    "        name_box1 = soup1.find('div', attrs={'id': 'candidates'}).find('tbody').find_all('tr')\n",
    "        for name in name_box1:\n",
    "            seat = dict()\n",
    "            seat['state'] = state\n",
    "            seat['seat_name'] = seat_name\n",
    "            seat['link'] = seat_link\n",
    "            seat['candidate_name'] = name.find('td', attrs = {'class':'candidate'}).text.strip()\n",
    "            seat['candidate_party'] = name.find('span').text.strip()\n",
    "            seats.append(seat)\n",
    "        print(\"\\tDone for\", seat_name)\n",
    "print(len(seats))"
   ]
  },
  {
   "cell_type": "code",
   "execution_count": 56,
   "metadata": {},
   "outputs": [
    {
     "data": {
      "text/html": [
       "<div>\n",
       "<style scoped>\n",
       "    .dataframe tbody tr th:only-of-type {\n",
       "        vertical-align: middle;\n",
       "    }\n",
       "\n",
       "    .dataframe tbody tr th {\n",
       "        vertical-align: top;\n",
       "    }\n",
       "\n",
       "    .dataframe thead th {\n",
       "        text-align: right;\n",
       "    }\n",
       "</style>\n",
       "<table border=\"1\" class=\"dataframe\">\n",
       "  <thead>\n",
       "    <tr style=\"text-align: right;\">\n",
       "      <th></th>\n",
       "      <th>candidate_name</th>\n",
       "      <th>candidate_party</th>\n",
       "      <th>link</th>\n",
       "      <th>seat_name</th>\n",
       "      <th>state</th>\n",
       "    </tr>\n",
       "  </thead>\n",
       "  <tbody>\n",
       "    <tr>\n",
       "      <th>0</th>\n",
       "      <td>COLEMAN David</td>\n",
       "      <td>Liberal</td>\n",
       "      <td>https://www.abc.net.au/news/elections/federal/...</td>\n",
       "      <td>Banks</td>\n",
       "      <td>NSW</td>\n",
       "    </tr>\n",
       "    <tr>\n",
       "      <th>1</th>\n",
       "      <td>DRAGONE Gianluca</td>\n",
       "      <td>The Greens</td>\n",
       "      <td>https://www.abc.net.au/news/elections/federal/...</td>\n",
       "      <td>Banks</td>\n",
       "      <td>NSW</td>\n",
       "    </tr>\n",
       "    <tr>\n",
       "      <th>2</th>\n",
       "      <td>GAMBIAN Chris</td>\n",
       "      <td>Labor</td>\n",
       "      <td>https://www.abc.net.au/news/elections/federal/...</td>\n",
       "      <td>Banks</td>\n",
       "      <td>NSW</td>\n",
       "    </tr>\n",
       "    <tr>\n",
       "      <th>3</th>\n",
       "      <td>WRIGHT Reginald Keith</td>\n",
       "      <td>United Australia Party</td>\n",
       "      <td>https://www.abc.net.au/news/elections/federal/...</td>\n",
       "      <td>Banks</td>\n",
       "      <td>NSW</td>\n",
       "    </tr>\n",
       "    <tr>\n",
       "      <th>4</th>\n",
       "      <td>THAKUR Anjali</td>\n",
       "      <td>Animal Justice Party</td>\n",
       "      <td>https://www.abc.net.au/news/elections/federal/...</td>\n",
       "      <td>Banks</td>\n",
       "      <td>NSW</td>\n",
       "    </tr>\n",
       "  </tbody>\n",
       "</table>\n",
       "</div>"
      ],
      "text/plain": [
       "          candidate_name         candidate_party  \\\n",
       "0          COLEMAN David                 Liberal   \n",
       "1       DRAGONE Gianluca              The Greens   \n",
       "2          GAMBIAN Chris                   Labor   \n",
       "3  WRIGHT Reginald Keith  United Australia Party   \n",
       "4          THAKUR Anjali    Animal Justice Party   \n",
       "\n",
       "                                                link seat_name state  \n",
       "0  https://www.abc.net.au/news/elections/federal/...     Banks   NSW  \n",
       "1  https://www.abc.net.au/news/elections/federal/...     Banks   NSW  \n",
       "2  https://www.abc.net.au/news/elections/federal/...     Banks   NSW  \n",
       "3  https://www.abc.net.au/news/elections/federal/...     Banks   NSW  \n",
       "4  https://www.abc.net.au/news/elections/federal/...     Banks   NSW  "
      ]
     },
     "execution_count": 56,
     "metadata": {},
     "output_type": "execute_result"
    }
   ],
   "source": [
    "df[df['state'] = 'VIC'].head()"
   ]
  },
  {
   "cell_type": "code",
   "execution_count": 64,
   "metadata": {},
   "outputs": [
    {
     "data": {
      "text/html": [
       "<div>\n",
       "<style scoped>\n",
       "    .dataframe tbody tr th:only-of-type {\n",
       "        vertical-align: middle;\n",
       "    }\n",
       "\n",
       "    .dataframe tbody tr th {\n",
       "        vertical-align: top;\n",
       "    }\n",
       "\n",
       "    .dataframe thead th {\n",
       "        text-align: right;\n",
       "    }\n",
       "</style>\n",
       "<table border=\"1\" class=\"dataframe\">\n",
       "  <thead>\n",
       "    <tr style=\"text-align: right;\">\n",
       "      <th></th>\n",
       "      <th>candidate_name</th>\n",
       "      <th>candidate_party</th>\n",
       "      <th>link</th>\n",
       "      <th>seat_name</th>\n",
       "      <th>state</th>\n",
       "    </tr>\n",
       "  </thead>\n",
       "  <tbody>\n",
       "    <tr>\n",
       "      <th>493</th>\n",
       "      <td>MOINUDDIN Aijaz</td>\n",
       "      <td>-</td>\n",
       "      <td>https://www.abc.net.au/news/elections/federal/...</td>\n",
       "      <td>Lalor</td>\n",
       "      <td>VIC</td>\n",
       "    </tr>\n",
       "    <tr>\n",
       "      <th>773</th>\n",
       "      <td>MOHAMMAD Yusuf</td>\n",
       "      <td>-</td>\n",
       "      <td>https://www.abc.net.au/news/elections/federal/...</td>\n",
       "      <td>Rankin</td>\n",
       "      <td>QLD</td>\n",
       "    </tr>\n",
       "  </tbody>\n",
       "</table>\n",
       "</div>"
      ],
      "text/plain": [
       "      candidate_name candidate_party  \\\n",
       "493  MOINUDDIN Aijaz               -   \n",
       "773   MOHAMMAD Yusuf               -   \n",
       "\n",
       "                                                  link seat_name state  \n",
       "493  https://www.abc.net.au/news/elections/federal/...     Lalor   VIC  \n",
       "773  https://www.abc.net.au/news/elections/federal/...    Rankin   QLD  "
      ]
     },
     "execution_count": 64,
     "metadata": {},
     "output_type": "execute_result"
    }
   ],
   "source": [
    "df[df['candidate_party'] == \"-\"]"
   ]
  },
  {
   "cell_type": "code",
   "execution_count": null,
   "metadata": {},
   "outputs": [],
   "source": []
  }
 ],
 "metadata": {
  "kernelspec": {
   "display_name": "Python 3",
   "language": "python",
   "name": "python3"
  },
  "language_info": {
   "codemirror_mode": {
    "name": "ipython",
    "version": 3
   },
   "file_extension": ".py",
   "mimetype": "text/x-python",
   "name": "python",
   "nbconvert_exporter": "python",
   "pygments_lexer": "ipython3",
   "version": "3.6.8"
  }
 },
 "nbformat": 4,
 "nbformat_minor": 2
}
