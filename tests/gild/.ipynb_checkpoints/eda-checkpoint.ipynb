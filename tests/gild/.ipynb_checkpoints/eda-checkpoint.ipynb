{
 "cells": [
  {
   "cell_type": "markdown",
   "metadata": {},
   "source": [
    "# Load tweets"
   ]
  },
  {
   "cell_type": "code",
   "execution_count": 81,
   "metadata": {},
   "outputs": [],
   "source": [
    "import pandas as pd\n",
    "import json"
   ]
  },
  {
   "cell_type": "code",
   "execution_count": 82,
   "metadata": {},
   "outputs": [],
   "source": [
    "input_file=\"tweets.json\"\n",
    "with open(input_file, encoding='utf8') as f:\n",
    "    f.readline()\n",
    "    tweets=list()\n",
    "    # read the file\n",
    "    \n",
    "    for (i, line) in enumerate(f):\n",
    "        try:\n",
    "            if line.strip()[-1] == ',':\n",
    "                data = json.loads(line.strip()[:-1])\n",
    "            else:\n",
    "                data = json.loads(line.strip())\n",
    "                \n",
    "            tweets.append(data['doc']['text'])\n",
    "        except:\n",
    "            continue\n",
    "    \n",
    "            "
   ]
  },
  {
   "cell_type": "code",
   "execution_count": 83,
   "metadata": {},
   "outputs": [],
   "source": [
    "output_file=\"tweets.txt\"\n",
    "with open(output_file, 'w') as f:\n",
    "    for line in tweets:\n",
    "        f.write(line)\n",
    "    "
   ]
  },
  {
   "cell_type": "markdown",
   "metadata": {},
   "source": [
    "# Preprocessing"
   ]
  },
  {
   "cell_type": "code",
   "execution_count": 85,
   "metadata": {},
   "outputs": [],
   "source": [
    "import nltk\n",
    "from nltk import word_tokenize\n",
    "lemmatizer = nltk.stem.wordnet.WordNetLemmatizer()\n",
    "\n",
    "\n",
    "# pre process documents removing stop words, non alpha and lemmatizing\n",
    "stopwords = list(nltk.corpus.stopwords.words('english')) # extend stop words if necessary\n",
    "stopwords.extend(['rt','http'])\n",
    "\n",
    "# lemmatize by pos verb, noun or adv\n",
    "def lemmatize(word):\n",
    "    lemma = lemmatizer.lemmatize(word,'v')\n",
    "    \n",
    "    if lemma == word:\n",
    "        lemma = lemmatizer.lemmatize(word,'n')\n",
    "        \n",
    "    if lemma == word:\n",
    "        lemma = lemmatizer.lemmatize(word,'a')\n",
    "        \n",
    "    return lemma\n",
    "\n",
    "def doc_preprocess(corpus):\n",
    "    new_corpus=[]\n",
    "    for doc in corpus:\n",
    "        new_doc=[]\n",
    "        for word in word_tokenize(doc):\n",
    "            new_word=word.lower()\n",
    "            if word.isalpha() and new_word not in stopwords:\n",
    "                new_word = lemmatize(new_word)\n",
    "                if new_word not in stopwords:\n",
    "                    new_doc.append(new_word)\n",
    "        new_corpus.append(new_doc)\n",
    "    return new_corpus\n"
   ]
  },
  {
   "cell_type": "code",
   "execution_count": 86,
   "metadata": {},
   "outputs": [],
   "source": [
    "corpus=doc_preprocess(tweets)\n",
    "words=list()\n",
    "for tweet in corpus:\n",
    "    for word in tweet:\n",
    "        words.append(word)"
   ]
  },
  {
   "cell_type": "markdown",
   "metadata": {},
   "source": [
    "# Get frequencies"
   ]
  },
  {
   "cell_type": "code",
   "execution_count": 87,
   "metadata": {},
   "outputs": [
    {
     "data": {
      "text/plain": [
       "[('clivefpalmer', 1492),\n",
       " ('labor', 818),\n",
       " ('abcnews', 792),\n",
       " ('jessvanvonderen', 779),\n",
       " ('abcbrisbane', 767),\n",
       " ('green', 746),\n",
       " ('auspol', 432),\n",
       " ('preference', 424),\n",
       " ('party', 389),\n",
       " ('money', 348)]"
      ]
     },
     "execution_count": 87,
     "metadata": {},
     "output_type": "execute_result"
    }
   ],
   "source": [
    "text=nltk.Text(words)\n",
    "fdist=nltk.FreqDist(text)\n",
    "fdist.most_common(10)"
   ]
  },
  {
   "cell_type": "code",
   "execution_count": null,
   "metadata": {},
   "outputs": [],
   "source": []
  }
 ],
 "metadata": {
  "kernelspec": {
   "display_name": "Python [default]",
   "language": "python",
   "name": "python3"
  },
  "language_info": {
   "codemirror_mode": {
    "name": "ipython",
    "version": 3
   },
   "file_extension": ".py",
   "mimetype": "text/x-python",
   "name": "python",
   "nbconvert_exporter": "python",
   "pygments_lexer": "ipython3",
   "version": "3.5.6"
  }
 },
 "nbformat": 4,
 "nbformat_minor": 2
}
